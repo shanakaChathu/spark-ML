{
 "cells": [
  {
   "cell_type": "code",
   "execution_count": 1,
   "metadata": {},
   "outputs": [],
   "source": [
    "#One worker per core \n",
    "import findspark\n",
    "findspark.init()\n",
    "from pyspark import SparkContext\n",
    "from pyspark.sql.session import SparkSession\n",
    "from pyspark.sql.types import *\n",
    "\n",
    "sc=SparkContext(master=\"local[2]\")\n",
    "spark = SparkSession(sc)\n",
    "\n",
    "#from pyspark.sql.session import SparkSession\n",
    "#sc = SparkContext.getOrCreate()\n",
    "#spark = SparkSession(sc)\n",
    "#sc.stop()\n",
    "import pandas as pd \n",
    "import numpy as np "
   ]
  },
  {
   "cell_type": "code",
   "execution_count": 3,
   "metadata": {},
   "outputs": [],
   "source": [
    "#Regression related libraries \n",
    "\n",
    "from pyspark.sql.types import *\n",
    "from pyspark.sql.functions import *\n",
    "\n",
    "from pyspark.ml.regression import LinearRegression\n",
    "from pyspark.ml.feature import VectorAssembler"
   ]
  },
  {
   "cell_type": "code",
   "execution_count": 6,
   "metadata": {},
   "outputs": [
    {
     "name": "stdout",
     "output_type": "stream",
     "text": [
      "+----------+---------+---------------+-------------+--------+--------+\n",
      "|DayofMonth|DayOfWeek|OriginAirportID|DestAirportID|DepDelay|ArrDelay|\n",
      "+----------+---------+---------------+-------------+--------+--------+\n",
      "|        19|        5|          11433|        13303|      -3|       1|\n",
      "|        19|        5|          14869|        12478|       0|      -8|\n",
      "|        19|        5|          14057|        14869|      -4|     -15|\n",
      "|        19|        5|          15016|        11433|      28|      24|\n",
      "|        19|        5|          11193|        12892|      -6|     -11|\n",
      "+----------+---------+---------------+-------------+--------+--------+\n",
      "only showing top 5 rows\n",
      "\n"
     ]
    }
   ],
   "source": [
    "#Data loading \n",
    "csv=spark.read.csv(\"data/flights.csv\",inferSchema=True,header=True)\n",
    "data=csv.select(\"DayofMonth\", \"DayOfWeek\", \"OriginAirportID\", \"DestAirportID\", \"DepDelay\", \"ArrDelay\")\n",
    "data.show(5)"
   ]
  },
  {
   "cell_type": "code",
   "execution_count": 11,
   "metadata": {},
   "outputs": [
    {
     "name": "stdout",
     "output_type": "stream",
     "text": [
      "Train:  1892133 Test:  810085\n"
     ]
    }
   ],
   "source": [
    "#Splitting\n",
    "splits = data.randomSplit([0.7, 0.3])\n",
    "train=splits[0]\n",
    "test=splits[1]\n",
    "print(\"Train: \",train.count(),\"Test: \",test.count())"
   ]
  },
  {
   "cell_type": "code",
   "execution_count": 13,
   "metadata": {},
   "outputs": [
    {
     "name": "stdout",
     "output_type": "stream",
     "text": [
      "+--------------------+-----+\n",
      "|            features|label|\n",
      "+--------------------+-----+\n",
      "|[1.0,1.0,10140.0,...|  -11|\n",
      "|[1.0,1.0,10140.0,...|  -18|\n",
      "|[1.0,1.0,10140.0,...|  -17|\n",
      "|[1.0,1.0,10140.0,...|   -9|\n",
      "|[1.0,1.0,10140.0,...|    4|\n",
      "|[1.0,1.0,10140.0,...|   94|\n",
      "|[1.0,1.0,10140.0,...|  -23|\n",
      "|[1.0,1.0,10140.0,...|  -14|\n",
      "|[1.0,1.0,10140.0,...|  -12|\n",
      "|[1.0,1.0,10140.0,...|   -6|\n",
      "|[1.0,1.0,10140.0,...|  -10|\n",
      "|[1.0,1.0,10140.0,...|    5|\n",
      "|[1.0,1.0,10140.0,...|   14|\n",
      "|[1.0,1.0,10140.0,...|   -9|\n",
      "|[1.0,1.0,10140.0,...|   -5|\n",
      "|[1.0,1.0,10140.0,...|   -6|\n",
      "|[1.0,1.0,10140.0,...|    6|\n",
      "|[1.0,1.0,10140.0,...|   13|\n",
      "|[1.0,1.0,10140.0,...|   19|\n",
      "|[1.0,1.0,10140.0,...|   38|\n",
      "+--------------------+-----+\n",
      "only showing top 20 rows\n",
      "\n"
     ]
    }
   ],
   "source": [
    "#Trainning transformation \n",
    "assembler = VectorAssembler(inputCols = [\"DayofMonth\", \"DayOfWeek\", \"OriginAirportID\", \"DestAirportID\", \"DepDelay\"], outputCol=\"features\")\n",
    "training = assembler.transform(train).select(col(\"features\"), (col(\"ArrDelay\").cast(\"Int\").alias(\"label\")))\n",
    "training.show()"
   ]
  },
  {
   "cell_type": "code",
   "execution_count": 14,
   "metadata": {},
   "outputs": [
    {
     "name": "stdout",
     "output_type": "stream",
     "text": [
      "+--------------------+---------+\n",
      "|            features|trueLabel|\n",
      "+--------------------+---------+\n",
      "|[1.0,1.0,10140.0,...|      -12|\n",
      "|[1.0,1.0,10140.0,...|       -9|\n",
      "|[1.0,1.0,10140.0,...|      -14|\n",
      "|[1.0,1.0,10140.0,...|      -11|\n",
      "|[1.0,1.0,10140.0,...|      -11|\n",
      "|[1.0,1.0,10140.0,...|      -12|\n",
      "|[1.0,1.0,10140.0,...|       19|\n",
      "|[1.0,1.0,10140.0,...|       23|\n",
      "|[1.0,1.0,10140.0,...|       41|\n",
      "|[1.0,1.0,10140.0,...|       -6|\n",
      "|[1.0,1.0,10140.0,...|       -8|\n",
      "|[1.0,1.0,10140.0,...|       -5|\n",
      "|[1.0,1.0,10140.0,...|       -1|\n",
      "|[1.0,1.0,10140.0,...|        2|\n",
      "|[1.0,1.0,10140.0,...|       38|\n",
      "|[1.0,1.0,10140.0,...|      -13|\n",
      "|[1.0,1.0,10140.0,...|       -1|\n",
      "|[1.0,1.0,10140.0,...|      -10|\n",
      "|[1.0,1.0,10140.0,...|      -23|\n",
      "|[1.0,1.0,10140.0,...|      106|\n",
      "+--------------------+---------+\n",
      "only showing top 20 rows\n",
      "\n"
     ]
    }
   ],
   "source": [
    "#Testing transformation \n",
    "testing = assembler.transform(test).select(col(\"features\"), (col(\"ArrDelay\")).cast(\"Int\").alias(\"trueLabel\"))\n",
    "testing.show()"
   ]
  },
  {
   "cell_type": "code",
   "execution_count": 16,
   "metadata": {},
   "outputs": [
    {
     "name": "stdout",
     "output_type": "stream",
     "text": [
      "Model trained!\n"
     ]
    }
   ],
   "source": [
    "lr = LinearRegression(labelCol=\"label\",featuresCol=\"features\", maxIter=10, regParam=0.3)\n",
    "model = lr.fit(training)\n",
    "print(\"Model trained!\")"
   ]
  },
  {
   "cell_type": "code",
   "execution_count": 17,
   "metadata": {},
   "outputs": [
    {
     "name": "stdout",
     "output_type": "stream",
     "text": [
      "+--------------------+-------------------+---------+\n",
      "|            features|         prediction|trueLabel|\n",
      "+--------------------+-------------------+---------+\n",
      "|[1.0,1.0,10140.0,...|-3.5644858296428996|      -12|\n",
      "|[1.0,1.0,10140.0,...|  4.313355516359376|       -9|\n",
      "|[1.0,1.0,10140.0,...| -8.744321912223267|      -14|\n",
      "|[1.0,1.0,10140.0,...| -6.750766069439763|      -11|\n",
      "|[1.0,1.0,10140.0,...| -4.757210226656259|      -11|\n",
      "|[1.0,1.0,10140.0,...| -3.760432305264507|      -12|\n",
      "|[1.0,1.0,10140.0,...| 17.171904043962286|       19|\n",
      "|[1.0,1.0,10140.0,...| 17.171904043962286|       23|\n",
      "|[1.0,1.0,10140.0,...| 31.126794943446818|       41|\n",
      "|[1.0,1.0,10140.0,...|-11.742157107599814|       -6|\n",
      "|[1.0,1.0,10140.0,...| -7.755045422032806|       -8|\n",
      "|[1.0,1.0,10140.0,...| -3.767933736465798|       -5|\n",
      "|[1.0,1.0,10140.0,...|-1.7743778936822934|       -1|\n",
      "|[1.0,1.0,10140.0,...|-0.7775999722905413|        2|\n",
      "|[1.0,1.0,10140.0,...| 37.099961040596035|       38|\n",
      "|[1.0,1.0,10140.0,...|-13.737076846965373|      -13|\n",
      "|[1.0,1.0,10140.0,...| -7.756409318614859|       -1|\n",
      "|[1.0,1.0,10140.0,...| -4.969068829068483|      -10|\n",
      "|[1.0,1.0,10140.0,...| -2.975512986284979|      -23|\n",
      "|[1.0,1.0,10140.0,...| 119.62817134490052|      106|\n",
      "+--------------------+-------------------+---------+\n",
      "only showing top 20 rows\n",
      "\n"
     ]
    }
   ],
   "source": [
    "prediction = model.transform(testing)\n",
    "predicted = prediction.select(\"features\", \"prediction\", \"trueLabel\")\n",
    "predicted.show()"
   ]
  },
  {
   "cell_type": "code",
   "execution_count": null,
   "metadata": {},
   "outputs": [],
   "source": []
  }
 ],
 "metadata": {
  "kernelspec": {
   "display_name": "Python 3",
   "language": "python",
   "name": "python3"
  },
  "language_info": {
   "codemirror_mode": {
    "name": "ipython",
    "version": 3
   },
   "file_extension": ".py",
   "mimetype": "text/x-python",
   "name": "python",
   "nbconvert_exporter": "python",
   "pygments_lexer": "ipython3",
   "version": "3.6.4"
  }
 },
 "nbformat": 4,
 "nbformat_minor": 2
}
